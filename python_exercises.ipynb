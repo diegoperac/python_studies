{
  "nbformat": 4,
  "nbformat_minor": 0,
  "metadata": {
    "colab": {
      "provenance": []
    },
    "kernelspec": {
      "name": "python3",
      "display_name": "Python 3"
    },
    "language_info": {
      "name": "python"
    }
  },
  "cells": [
    {
      "cell_type": "markdown",
      "source": [
        "# **Notebook de Exercícios Python**!\n",
        "\n",
        "Este notebook é uma ferramenta interativa destinada à realização de uma ampla variedade de exercícios em Python, abrangendo desde conceitos básicos até desafios avançados. Estamos utilizando a lista de exercícios disponibilizada pelo Python Brasil.\n",
        "\n",
        "Você pode acessar a lista completa de exercícios através do seguinte link: [Lista de Exercícios Python Brasil](https://wiki.python.org.br/ListaDeExercicios)"
      ],
      "metadata": {
        "id": "ArH3GWhYC0r4"
      }
    },
    {
      "cell_type": "code",
      "execution_count": null,
      "metadata": {
        "id": "_75KEg4lBO1Y"
      },
      "outputs": [],
      "source": [
        "# Faça um Programa que mostre a mensagem \"Hello, World!\" na tela.\n",
        "\n",
        "print (\"Hello, World!\")"
      ]
    },
    {
      "cell_type": "code",
      "source": [
        "# Faça um Programa que peça um número e então mostre a mensagem: O número informado foi [número].\n",
        "\n",
        "x = input (\"Digite o número: \")\n",
        "print (\"O número informado foi {}.\" .format(x))"
      ],
      "metadata": {
        "id": "O3XQE1hyBhna"
      },
      "execution_count": null,
      "outputs": []
    },
    {
      "cell_type": "code",
      "source": [
        "# Faça um Programa que peça dois números e imprima a soma.\n",
        "\n",
        "x = int(input(\"Digite o primeiro número:\"))\n",
        "y = int(input(\"Digite o segundo número:\"))\n",
        "\n",
        "print(\"A soma é {}.\" .format(x+y))"
      ],
      "metadata": {
        "id": "6yGmybc57lA0"
      },
      "execution_count": null,
      "outputs": []
    },
    {
      "cell_type": "code",
      "source": [
        "# Faça um Programa que peça as 4 notas bimestrais e mostre a média.\n",
        "\n",
        "x = int(input(\"Digite a nota do 1° bimestre:\"))\n",
        "y = int(input(\"Digite a nota do 2° bimestre:\"))\n",
        "w = int(input(\"Digite a nota do 3° bimestre:\"))\n",
        "z = int(input(\"Digite a nota do 4° bimestre:\"))\n",
        "\n",
        "print(\"A média das notas é: {}\" .format ((x+y+w+z)/4))"
      ],
      "metadata": {
        "id": "axuDspLK8d-A"
      },
      "execution_count": null,
      "outputs": []
    },
    {
      "cell_type": "code",
      "source": [
        "# Faça um Programa que converta metros para centímetros.\n",
        "\n",
        "x = int(input(\"Digite a distância em metros (m):\"))\n",
        "\n",
        "print(\"A distância em centímetros é: {}\" .format(x*100))"
      ],
      "metadata": {
        "id": "SKbqRhNj9Q6g"
      },
      "execution_count": null,
      "outputs": []
    },
    {
      "cell_type": "code",
      "source": [
        "# Faça um Programa que peça o raio de um círculo, calcule e mostre sua área.\n",
        "\n",
        "import math\n",
        "\n",
        "r = int(input(\"Digite o raio do círculo em metros:\"))\n",
        "a = math.pi*r**2\n",
        "\n",
        "print(\"A área do círculo é {:.2f} metros quadrados.\" .format(a))"
      ],
      "metadata": {
        "id": "88Oy-cIB58rn"
      },
      "execution_count": null,
      "outputs": []
    },
    {
      "cell_type": "code",
      "source": [
        "#  Faça um Programa que calcule a área de um quadrado, em seguida mostre o dobro desta área para o usuário.\n",
        "\n",
        "l = int(input(\"Digite o valor do lado do quadrado em metros:\"))\n",
        "a = l**l\n",
        "\n",
        "print(\"O dobro da área do quadrado é {}.\" .format(2*a))"
      ],
      "metadata": {
        "id": "dbjfkzKn6v7F"
      },
      "execution_count": null,
      "outputs": []
    },
    {
      "cell_type": "code",
      "source": [
        "# Faça um Programa que pergunte quanto você ganha por hora e o número de horas trabalhadas no mês. Calcule e mostre o total do seu salário no referido mês.\n",
        "\n",
        "v = int(input(\"Quanto você ganha por hora?\"))\n",
        "m = int(input(\"Quantas horas você trabalhou esse mês?\"))\n",
        "\n",
        "print(\"O seu salário esse mês é: R${}.\" .format(v*m))"
      ],
      "metadata": {
        "id": "FnHsDDVj7SjQ"
      },
      "execution_count": null,
      "outputs": []
    },
    {
      "cell_type": "code",
      "source": [
        "# Faça um Programa que peça a temperatura em graus Fahrenheit, transforme e mostre a temperatura em graus Celsius.\n",
        "\n",
        "F = int(input(\"Digite a temperatura em graus Fahrenheit:\"))\n",
        "C = 5 * ((F-32) / 9)\n",
        "\n",
        "print(\"A temperatura é {:.2f} graus Celsius\" .format(C))"
      ],
      "metadata": {
        "id": "x0XIzqJt7ypY"
      },
      "execution_count": null,
      "outputs": []
    },
    {
      "cell_type": "code",
      "source": [
        "# Faça um Programa que peça a temperatura em graus Celsius, transforme e mostre em graus Fahrenheit.\n",
        "\n",
        "C = int(input(\"Digite a temperatura em graus Celsius:\"))\n",
        "F = (9/5) * C + 32\n",
        "\n",
        "print(\"A temperatura é {:.2f} graus Fahrenheit.\" .format(F))"
      ],
      "metadata": {
        "id": "o29r-C4o8e5j"
      },
      "execution_count": null,
      "outputs": []
    },
    {
      "cell_type": "code",
      "source": [
        "# Faça um Programa que peça 2 números inteiros e um número real. Calcule e mostre:\n",
        "# o produto do dobro do primeiro com metade do segundo.\n",
        "# a soma do triplo do primeiro com o terceiro.\n",
        "# o terceiro elevado ao cubo.\n",
        "\n",
        "x = int(input(\"Digite o primeiro número inteiro:\"))\n",
        "y = int(input(\"Digite o segundo número inteiro:\"))\n",
        "w = float(input(\"Digite o número real:\"))\n",
        "\n",
        "print(\"O produto do dobro do primeiro com metade do segundo é {}.\" .format((2*x)*(y/2)))\n",
        "print(\"A soma do triplo do primeiro com o terceiro é {}.\" .format((3*x)+(w)))\n",
        "print(\"O terceiro elevado ao cubo é {:.2f}.\" .format((w**3)))"
      ],
      "metadata": {
        "id": "TntqLKY5FzI6"
      },
      "execution_count": null,
      "outputs": []
    },
    {
      "cell_type": "code",
      "source": [
        "# Tendo como dados de entrada a altura de uma pessoa, construa um algoritmo que calcule seu peso ideal, usando a seguinte fórmula: (72.7*altura) - 58\n",
        "\n",
        "x = float(input(\"Qual a altura em metros?\"))\n",
        "\n",
        "peso_ideal = (72.7 * x) - 58\n",
        "\n",
        "print(\"O peso ideal é {:.2f}\" .format(peso_ideal))"
      ],
      "metadata": {
        "id": "rQ8gV7UyIpKU"
      },
      "execution_count": null,
      "outputs": []
    },
    {
      "cell_type": "code",
      "source": [
        "# Tendo como dado de entrada a altura (h) de uma pessoa, construa um algoritmo que calcule seu peso ideal, utilizando as seguintes fórmulas:\n",
        "# Para homens: (72.7*h) - 58\n",
        "# Para mulheres: (62.1*h) - 44.7\n",
        "\n",
        "h = float(input(\"Digite a altura em metros:\"))\n",
        "\n",
        "print(\"O peso ideal para homens com essa altura é {:.2f}.\" .format((72.7*h) - 58))\n",
        "print(\"O pesoal idela para mulheres com essa altura é {:.2f}.\" .format((62.1*h) - 44.7))"
      ],
      "metadata": {
        "id": "xBkFYvELJcg8"
      },
      "execution_count": null,
      "outputs": []
    },
    {
      "cell_type": "code",
      "source": [
        "# João Papo-de-Pescador, homem de bem, comprou um microcomputador para controlar o rendimento diário de seu trabalho. Toda vez que ele traz um peso de peixes maior que o estabelecido\n",
        "# pelo regulamento de pesca do estado de São Paulo (50 quilos) deve pagar uma multa de R$ 4,00 por quilo excedente. João precisa que você faça um programa que leia a variável peso (peso de peixes) e\n",
        "# calcule o excesso. Gravar na variável excesso a quantidade de quilos além do limite e na variável multa o valor da multa que João deverá pagar. Imprima os dados do programa com as mensagens adequadas.\n",
        "\n",
        "peso = float(input(\"Digite o peso:\"))\n",
        "\n",
        "if peso <= 50:\n",
        "  print(\"Não vou excesso de peso.\")\n",
        "else:\n",
        "  excesso = peso - 50\n",
        "  multa = excesso * 4\n",
        "  print(\"O excesso foi de {:.2f}kg e a multa a pagar é R${:.2f}.\" .format(excesso, multa))"
      ],
      "metadata": {
        "colab": {
          "base_uri": "https://localhost:8080/"
        },
        "id": "3Y66vQBnNW6x",
        "outputId": "0b50c386-6271-4b73-e949-ae65154a21ce"
      },
      "execution_count": null,
      "outputs": [
        {
          "output_type": "stream",
          "name": "stdout",
          "text": [
            "Digite o peso:52\n",
            "O excesso foi de 2.00kg e a multa a pagar é R$8.00\n"
          ]
        }
      ]
    }
  ]
}